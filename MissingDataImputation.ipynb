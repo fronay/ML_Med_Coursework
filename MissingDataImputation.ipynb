{
 "cells": [
  {
   "cell_type": "code",
   "execution_count": 1,
   "metadata": {
    "collapsed": true
   },
   "outputs": [],
   "source": [
    "import pandas as pd\n",
    "import numpy as np\n",
    "import matplotlib.pyplot as plt\n",
    "from scipy import stats\n",
    "from sklearn import linear_model, feature_selection\n",
    "# import sklearn"
   ]
  },
  {
   "cell_type": "code",
   "execution_count": 2,
   "metadata": {},
   "outputs": [
    {
     "data": {
      "text/html": [
       "<div>\n",
       "<style scoped>\n",
       "    .dataframe tbody tr th:only-of-type {\n",
       "        vertical-align: middle;\n",
       "    }\n",
       "\n",
       "    .dataframe tbody tr th {\n",
       "        vertical-align: top;\n",
       "    }\n",
       "\n",
       "    .dataframe thead th {\n",
       "        text-align: right;\n",
       "    }\n",
       "</style>\n",
       "<table border=\"1\" class=\"dataframe\">\n",
       "  <thead>\n",
       "    <tr style=\"text-align: right;\">\n",
       "      <th></th>\n",
       "      <th>ID</th>\n",
       "      <th>sex</th>\n",
       "      <th>age</th>\n",
       "      <th>height</th>\n",
       "      <th>weight</th>\n",
       "      <th>glucose</th>\n",
       "      <th>diabetes</th>\n",
       "    </tr>\n",
       "  </thead>\n",
       "  <tbody>\n",
       "    <tr>\n",
       "      <th>count</th>\n",
       "      <td>162.000000</td>\n",
       "      <td>162.000000</td>\n",
       "      <td>137.000000</td>\n",
       "      <td>140.000000</td>\n",
       "      <td>123.000000</td>\n",
       "      <td>157.000000</td>\n",
       "      <td>162.000000</td>\n",
       "    </tr>\n",
       "    <tr>\n",
       "      <th>mean</th>\n",
       "      <td>81.500000</td>\n",
       "      <td>0.228395</td>\n",
       "      <td>59.145985</td>\n",
       "      <td>174.342857</td>\n",
       "      <td>84.447154</td>\n",
       "      <td>92.856643</td>\n",
       "      <td>0.296296</td>\n",
       "    </tr>\n",
       "    <tr>\n",
       "      <th>std</th>\n",
       "      <td>46.909487</td>\n",
       "      <td>0.421100</td>\n",
       "      <td>16.677980</td>\n",
       "      <td>8.272144</td>\n",
       "      <td>16.680313</td>\n",
       "      <td>15.387021</td>\n",
       "      <td>0.458039</td>\n",
       "    </tr>\n",
       "    <tr>\n",
       "      <th>min</th>\n",
       "      <td>1.000000</td>\n",
       "      <td>0.000000</td>\n",
       "      <td>21.000000</td>\n",
       "      <td>150.000000</td>\n",
       "      <td>55.000000</td>\n",
       "      <td>66.071000</td>\n",
       "      <td>0.000000</td>\n",
       "    </tr>\n",
       "    <tr>\n",
       "      <th>25%</th>\n",
       "      <td>41.250000</td>\n",
       "      <td>0.000000</td>\n",
       "      <td>50.000000</td>\n",
       "      <td>170.000000</td>\n",
       "      <td>75.000000</td>\n",
       "      <td>79.310000</td>\n",
       "      <td>0.000000</td>\n",
       "    </tr>\n",
       "    <tr>\n",
       "      <th>50%</th>\n",
       "      <td>81.500000</td>\n",
       "      <td>0.000000</td>\n",
       "      <td>61.000000</td>\n",
       "      <td>175.000000</td>\n",
       "      <td>80.000000</td>\n",
       "      <td>94.077000</td>\n",
       "      <td>0.000000</td>\n",
       "    </tr>\n",
       "    <tr>\n",
       "      <th>75%</th>\n",
       "      <td>121.750000</td>\n",
       "      <td>0.000000</td>\n",
       "      <td>71.000000</td>\n",
       "      <td>180.000000</td>\n",
       "      <td>90.000000</td>\n",
       "      <td>105.161000</td>\n",
       "      <td>1.000000</td>\n",
       "    </tr>\n",
       "    <tr>\n",
       "      <th>max</th>\n",
       "      <td>162.000000</td>\n",
       "      <td>1.000000</td>\n",
       "      <td>92.000000</td>\n",
       "      <td>195.000000</td>\n",
       "      <td>160.000000</td>\n",
       "      <td>120.000000</td>\n",
       "      <td>1.000000</td>\n",
       "    </tr>\n",
       "  </tbody>\n",
       "</table>\n",
       "</div>"
      ],
      "text/plain": [
       "               ID         sex         age      height      weight     glucose  \\\n",
       "count  162.000000  162.000000  137.000000  140.000000  123.000000  157.000000   \n",
       "mean    81.500000    0.228395   59.145985  174.342857   84.447154   92.856643   \n",
       "std     46.909487    0.421100   16.677980    8.272144   16.680313   15.387021   \n",
       "min      1.000000    0.000000   21.000000  150.000000   55.000000   66.071000   \n",
       "25%     41.250000    0.000000   50.000000  170.000000   75.000000   79.310000   \n",
       "50%     81.500000    0.000000   61.000000  175.000000   80.000000   94.077000   \n",
       "75%    121.750000    0.000000   71.000000  180.000000   90.000000  105.161000   \n",
       "max    162.000000    1.000000   92.000000  195.000000  160.000000  120.000000   \n",
       "\n",
       "         diabetes  \n",
       "count  162.000000  \n",
       "mean     0.296296  \n",
       "std      0.458039  \n",
       "min      0.000000  \n",
       "25%      0.000000  \n",
       "50%      0.000000  \n",
       "75%      1.000000  \n",
       "max      1.000000  "
      ]
     },
     "execution_count": 2,
     "metadata": {},
     "output_type": "execute_result"
    }
   ],
   "source": [
    "original = 'Data_missing_values.xlsx'\n",
    "data = pd.read_excel(original)\n",
    "data.describe()"
   ]
  },
  {
   "cell_type": "markdown",
   "metadata": {},
   "source": [
    "*1. Identifizieren sie Variablen mit fehlenden Werten und geben Sie die Häufigkeit der fehlenden Werte an.*"
   ]
  },
  {
   "cell_type": "code",
   "execution_count": 3,
   "metadata": {},
   "outputs": [
    {
     "name": "stdout",
     "output_type": "stream",
     "text": [
      "nan_uebersicht: \n",
      "ID           0\n",
      "sex          0\n",
      "age         25\n",
      "height      22\n",
      "weight      39\n",
      "glucose      5\n",
      "diabetes     0\n",
      "dtype: int64\n",
      "größe(fehlend):  (81, 7) \n",
      "größe(komplett):  (81, 7)\n"
     ]
    }
   ],
   "source": [
    "nan_uebersicht = data.isnull().sum()\n",
    "print \"nan_uebersicht: \\n\", nan_uebersicht\n",
    "# Cases mit ein oder mehr NaNs & komplette Reihen in zwei dataframes zum Vergleich teilen:\n",
    "fehl_daten = data[data.isnull().any(axis=1)]\n",
    "komplett_daten = data[~data.isnull().any(axis=1)]\n",
    "print \"größe(fehlend): \", fehl_daten.shape, \"\\ngröße(komplett): \", komplett_daten.shape"
   ]
  },
  {
   "cell_type": "markdown",
   "metadata": {},
   "source": [
    "Am meisten Werte fehlen bei Gewicht, gefolgt von Höhe und Alter (insgesamt 81 Reihen fallen durch Fehlen von ein oder mehr Variablen aus).\n",
    "\n",
    "*2. Untersuchen Sie anschließend den zugrunde liegenden Mechanismus für das Auftreten der fehlenden Daten (MCAR, MAR, MNAR)*"
   ]
  },
  {
   "cell_type": "code",
   "execution_count": 4,
   "metadata": {},
   "outputs": [
    {
     "data": {
      "image/png": "[encoded data removed]",
      "text/plain": [
       "<matplotlib.figure.Figure at 0x1a0ee6a7d0>"
      ]
     },
     "metadata": {},
     "output_type": "display_data"
    }
   ],
   "source": [
    "# Datenset ist schon 50/50 gespalten, Durchschnittswerte koennen verglichen werden:\n",
    "spalten_namen = [name for name, _ in fehl_daten.iteritems()]\n",
    "fehl_mean = [spalte.mean() for _, spalte in fehl_daten.iteritems()]\n",
    "komplett_mean = [spalte.mean() for _, spalte in komplett_daten.iteritems()]\n",
    "# Visualisierung der means:\n",
    "fig, ax = plt.subplots()\n",
    "index = np.arange(len(spalten_namen))\n",
    "bar_breite = 0.35\n",
    "komplett_daten_plot = plt.bar(index, komplett_mean, bar_breite,\n",
    "                 color='r',\n",
    "                 #yerr=std_komplett,\n",
    "                 label='voll')\n",
    "fehl_daten_plot = plt.bar(index + bar_breite, fehl_mean, bar_breite, color='b',\n",
    "                 #yerr=std_fehl,\n",
    "                 label='NaN')\n",
    "plt.xlabel('Sub-Datensets')\n",
    "plt.ylabel('Durchschnittswert')\n",
    "plt.title('Durchschnittswerte Fehldatenset vs. Komplettdatenset')\n",
    "plt.xticks(index + bar_breite / 2, ('ID', 'sex', 'age', 'height', 'weight', 'glucose', 'diabetes'))\n",
    "plt.legend()\n",
    "plt.tight_layout()\n",
    "plt.show()"
   ]
  },
  {
   "cell_type": "code",
   "execution_count": 5,
   "metadata": {},
   "outputs": [
    {
     "name": "stdout",
     "output_type": "stream",
     "text": [
      "T-statistik: -0.741484110846; p_value: 0.459836391091\n",
      "Kein Signifikanter Unterschied bei age belegbar, p_value=0.459836391091\n",
      "T-statistik: -0.0557447622351; p_value: 0.955643626171\n",
      "Kein Signifikanter Unterschied bei height belegbar, p_value=0.955643626171\n",
      "T-statistik: 0.765763240363; p_value: 0.445339020892\n",
      "Kein Signifikanter Unterschied bei weight belegbar, p_value=0.445339020892\n",
      "T-statistik: -1.11917803187; p_value: 0.264823160191\n",
      "Kein Signifikanter Unterschied bei glucose belegbar, p_value=0.264823160191\n"
     ]
    }
   ],
   "source": [
    "def sig_diff_check(x,y,name):\n",
    "    \"\"\"T-test für signifikanten unterschied zwischen zwei sample serien\"\"\"\n",
    "    t_stat, p_value = stats.ttest_ind(x, y, equal_var=False)\n",
    "    print \"T-statistik: {}; p_value: {}\".format(t_stat, p_value);\n",
    "    if p_value < 0.05:\n",
    "        print \"Signifikanter Unterschied bei '{}' scheint mit p_value={} wahrscheinlich\".format(name, p_value)\n",
    "    else:\n",
    "        print \"Kein Signifikanter Unterschied bei {} belegbar, p_value={}\".format(name, p_value)\n",
    "\n",
    "# Überprüfen ob sich die datasets mit/ohne NaNs signifikant in einem der variablen unterscheiden\n",
    "for name in (\"age\", \"height\", \"weight\", \"glucose\"):\n",
    "    x = komplett_daten[name]\n",
    "    y = fehl_daten[name].dropna()\n",
    "    t_stat, p_value = stats.ttest_ind(x, y, equal_var=True)\n",
    "    sig_diff_check(x,y,name)\n"
   ]
  },
  {
   "cell_type": "markdown",
   "metadata": {
    "collapsed": true
   },
   "source": [
    "Insgesamt scheint kein signifikanter Unterschied zwischen einzelnen Variablen der beiden Teil-Datasets zu geben, was eher auf MAR als MNAR hindeutet.\n",
    "\n",
    "*Führen Sie nun folgende statistische Analysen mittels der Complete-Case Analysis Methode durch (Streichen Sie alle Patienten die mindestens eine fehlende Variable beinhalten)*\n"
   ]
  },
  {
   "cell_type": "markdown",
   "metadata": {},
   "source": [
    "*a. Ist ein signifikanter geschlechtsspezifischer Unterschied der Körpergröße zwischen männlichen und weiblichen PatientInnen identifizierbar?*"
   ]
  },
  {
   "cell_type": "code",
   "execution_count": 8,
   "metadata": {},
   "outputs": [
    {
     "name": "stdout",
     "output_type": "stream",
     "text": [
      "durchschnitt v. height bei frauen: 164.764705882 ; maenner: 176.84375; 7.33108711175% Unterschied.\n",
      "T-statistik: -7.73881239972; p_value: 2.7435031878e-08\n",
      "Signifikanter Unterschied bei 'height' scheint mit p_value=2.7435031878e-08 wahrscheinlich\n"
     ]
    }
   ],
   "source": [
    "def differenz_analyse(variable, datensatz):\n",
    "    frauen_daten = datensatz[datensatz[\"sex\"]==1]\n",
    "    maenner_daten = datensatz[datensatz[\"sex\"]==0]\n",
    "    f = frauen_daten[variable]\n",
    "    m = maenner_daten[variable]\n",
    "    f_mean = f.mean()\n",
    "    m_mean = m.mean()\n",
    "    text_bausteine = (variable, f_mean, m_mean, (m_mean-f_mean)/f_mean*100)\n",
    "    print \"durchschnitt v. {} bei frauen: {} ; maenner: {}; {}% Unterschied.\".format(*text_bausteine)\n",
    "    sig_diff_check(f,m,variable)\n",
    "\n",
    "differenz_analyse(\"height\", komplett_daten)"
   ]
  },
  {
   "cell_type": "markdown",
   "metadata": {},
   "source": [
    "Mit sehr niedrigem p-wert können wir einen (zu erwartenden) Unterschied der Körpergröße bestätigen.\n",
    "\n",
    "*b. Ist ein signifikanter geschlechtsspezifischer Unterschied des Blutzuckergehalts zwischen männlichen und weiblichen PatientInnen identifizierbar?*"
   ]
  },
  {
   "cell_type": "code",
   "execution_count": 9,
   "metadata": {},
   "outputs": [
    {
     "name": "stdout",
     "output_type": "stream",
     "text": [
      "durchschnitt v. glucose bei frauen: 87.5218823529 ; maenner: 92.5868125; 5.78704434925% Unterschied.\n",
      "T-statistik: -1.46559079432; p_value: 0.152395395262\n",
      "Kein Signifikanter Unterschied bei glucose belegbar, p_value=0.152395395262\n"
     ]
    }
   ],
   "source": [
    "differenz_analyse(\"glucose\", komplett_daten)"
   ]
  },
  {
   "cell_type": "markdown",
   "metadata": {},
   "source": [
    "Es scheint bei Glucose-Wert mit lediglich 5% Delta und p>0.05 *derweil* keinen signifikant belegbaren Unterschied zu geben.\n",
    "\n",
    "*c. Berechnen Sie ein lineares Regressionsmodell, indem Sie Diabetes als abhängige Variable inkludieren und die Variablen Glucose, Gewicht, und Geschlecht als unabhängige Variablen definieren. Sehen Sie sich die Koeffizienten, sowie die P-Werte der unabhängigen Variablen an.*"
   ]
  },
  {
   "cell_type": "code",
   "execution_count": 10,
   "metadata": {},
   "outputs": [
    {
     "name": "stdout",
     "output_type": "stream",
     "text": [
      "multivariate ergebnisse:\n",
      "r^2: 0.185273559182\n",
      "intercept: -0.725130908565\n",
      "koeffizienten: [-0.06631099 -0.00021921  0.00989758]\n",
      "p-wert der variablen - geschlecht: 0.29986191089, gewicht: 0.612939235189, blutzucker: 3.36982918093e-09\n",
      "\n",
      "univariate glucose ergebnisse\n",
      "slope 0.0101794718195 \n",
      "inter -0.783515819896 \n",
      "r^2 0.18009005193 \n",
      "p 7.87120823577e-05 \n",
      "std 0.00244371140105\n"
     ]
    }
   ],
   "source": [
    "def diabetes_regression(datensatz):\n",
    "    sex = datensatz[\"sex\"].tolist()\n",
    "    weight = datensatz[\"weight\"].tolist()\n",
    "    glucose = datensatz[\"glucose\"].tolist()\n",
    "    X = [[sex[i],weight[i],glucose[i]] for i in range(len(sex))]\n",
    "    y = datensatz[\"diabetes\"].tolist()\n",
    "    regressor = linear_model.LinearRegression()\n",
    "    regressor.fit(X,y)\n",
    "    print \"multivariate ergebnisse:\"\n",
    "    print \"r^2:\", regressor.score(X,y)\n",
    "    print \"intercept:\", regressor.intercept_\n",
    "    print \"koeffizienten:\", regressor.coef_\n",
    "    _, p_val_coef =  feature_selection.chi2(X,y)\n",
    "    print \"p-wert der variablen - geschlecht: {}, gewicht: {}, blutzucker: {}\\n\".format(*p_val_coef)\n",
    "\n",
    "    \n",
    "# multi-regression:\n",
    "diabetes_regression(komplett_daten)\n",
    "\n",
    "# da glucose viel stärker mit target korreliert, probiere univariate regression als cross-check\n",
    "def univariate_glucose(datensatz):\n",
    "    print \"univariate glucose ergebnisse\"\n",
    "    einzel_X = datensatz[\"glucose\"].tolist()\n",
    "    y = datensatz[\"diabetes\"].tolist()\n",
    "    slope, inter, r_value, p_value, std_err = stats.linregress(einzel_X,y)\n",
    "    print \"slope\", slope, \"\\ninter\", inter, \"\\nr^2\", r_value*r_value,\"\\np\", p_value, \"\\nstd\", std_err\n",
    "univariate_glucose(komplett_daten)"
   ]
  },
  {
   "cell_type": "markdown",
   "metadata": {},
   "source": [
    "Blutzucker ist wie erwartet stark signifikant für Diabetes-Vorhersage; Gewicht aber hier anscheinend nicht, was überraschend ist (nach Allgemeinwissen sollte Übergewicht nämlich mit Diabetes stark korrelieren). Eventuell eine Frage der Missing Data Imputation (siehe unten - Signifikanz wird verstärkt).\n",
    "\n",
    "Insgesamt relativ geringe r^2 scores.\n",
    "\n",
    "*Führen Sie nun eine Mean-Imputation der fehlenden Werte durch. Führen Sie nun die oben angegebenen statistischen Analysen mit den imputierten Daten durch. Welche Unterschiede können Sie bemerken?*"
   ]
  },
  {
   "cell_type": "code",
   "execution_count": 11,
   "metadata": {},
   "outputs": [
    {
     "name": "stdout",
     "output_type": "stream",
     "text": [
      "durchschnitt v. height bei frauen: 165.776061776 ; maenner: 176.878628571; 6.69732811627% Unterschied.\n",
      "T-statistik: -8.99614887043; p_value: 2.85591754242e-12\n",
      "Signifikanter Unterschied bei 'height' scheint mit p_value=2.85591754242e-12 wahrscheinlich\n",
      "durchschnitt v. glucose bei frauen: 88.0065212601 ; maenner: 94.2922794395; 7.14237773448% Unterschied.\n",
      "T-statistik: -2.63402837541; p_value: 0.0101593917409\n",
      "Signifikanter Unterschied bei 'glucose' scheint mit p_value=0.0101593917409 wahrscheinlich\n",
      "multivariate ergebnisse:\n",
      "r^2: 0.227437030771\n",
      "intercept: -1.06172636004\n",
      "koeffizienten: [ 0.09105878 -0.00024399  0.01462286]\n",
      "p-wert der variablen - geschlecht: 0.989360908712, gewicht: 0.285034393871, blutzucker: 8.00161071084e-21\n",
      "\n"
     ]
    }
   ],
   "source": [
    "means = data.mean()\n",
    "# \"mean sex\" ist zwar 0.21 (nonsense) \n",
    "# aber ist bei imputation kein Problem da bei geschlecht & ID keine Angaben fehlen\n",
    "imputierte_daten = data.fillna(data.mean())\n",
    "\n",
    "differenz_analyse(\"height\", imputierte_daten)\n",
    "differenz_analyse(\"glucose\", imputierte_daten)\n",
    "diabetes_regression(imputierte_daten)"
   ]
  },
  {
   "cell_type": "markdown",
   "metadata": {},
   "source": [
    "P-Wert für Gewicht ist gesunken (aber noch nicht unter der arbiträren standard-5% Schwelle); P-Wert für Geschlecht hat sich erhöht (mehr Daten).\n",
    "Geschlechtsunterschied bei Glukose wurde als signifikant erhöht. Das lineare Regressionsmodell hat einen etwas höheren R^2 Score erreicht, da mehr Daten inkludiert werden können."
   ]
  }
 ],
 "metadata": {
  "kernelspec": {
   "display_name": "Python 2",
   "language": "python",
   "name": "python2"
  },
  "language_info": {
   "codemirror_mode": {
    "name": "ipython",
    "version": 2
   },
   "file_extension": ".py",
   "mimetype": "text/x-python",
   "name": "python",
   "nbconvert_exporter": "python",
   "pygments_lexer": "ipython2",
   "version": "2.7.13"
  }
 },
 "nbformat": 4,
 "nbformat_minor": 2
}
