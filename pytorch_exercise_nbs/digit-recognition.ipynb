{
 "cells": [
  {
   "cell_type": "markdown",
   "metadata": {},
   "source": [
    "# Practical exercise 2\n",
    "\n",
    "*authors: Asan Agibetov, Georg Dorffner*\n",
    "\n",
    "In this exercise you will learn how to use Convolutional Neural Networks (CNNs), and build a simple handwritten digit recognition system based on CNN. The acquired knowledge in this exercise will also be important for the next exercise, where you will build a CNN for the recognition of medical images."
   ]
  },
  {
   "cell_type": "markdown",
   "metadata": {},
   "source": [
    "## Package imports and global settings"
   ]
  },
  {
   "cell_type": "code",
   "execution_count": 9,
   "metadata": {},
   "outputs": [],
   "source": [
    "import torch\n",
    "import torch.nn as nn\n",
    "import torchvision.datasets as dsets\n",
    "import torchvision.transforms as transforms\n",
    "from torch.autograd import Variable\n",
    "import matplotlib.pyplot as plt\n",
    "import math\n",
    "import itertools as it"
   ]
  },
  {
   "cell_type": "code",
   "execution_count": 10,
   "metadata": {},
   "outputs": [
    {
     "name": "stdout",
     "output_type": "stream",
     "text": [
      "Populating the interactive namespace from numpy and matplotlib\n"
     ]
    }
   ],
   "source": [
    "%pylab inline"
   ]
  },
  {
   "cell_type": "markdown",
   "metadata": {},
   "source": [
    "## Data preparation\n",
    "\n",
    "We will be using the [MNIST database of handwritten digits](http://yann.lecun.com/exdb/mnist/) to demonstrate the application of convolutional neural networks. Pytorch has a related package - `torchvision`, which contains a set of convenience functions to prepare the commonly used datasets. In particular we will use `torchvision.datasets.MNIST` callable which will prepare MNIST data for us."
   ]
  },
  {
   "cell_type": "code",
   "execution_count": 11,
   "metadata": {},
   "outputs": [],
   "source": [
    "# Hyper Parameters\n",
    "num_epochs = 10\n",
    "batch_size = 100\n",
    "learning_rate = 0.001\n",
    "\n",
    "train_dataset = torch.load(\"./data/train.limited.pt\")\n",
    "test_dataset = torch.load(\"./data/test.limited.pt\")"
   ]
  },
  {
   "cell_type": "markdown",
   "metadata": {},
   "source": [
    "Due to the size and computational resource limitation imposed by Microsfot Azure Cloud platform for the free accounts, we will only use a fraction of available images both during training and testing. If you are preparing these exercises on your local machine, and have enough computational resources (any modern i5/i7 Intel CPU (or equivalent) machine), you could (and maybe you should) use the full dataset. \n",
    "\n",
    "*Contact your instructors for the full dataset.*"
   ]
  },
  {
   "cell_type": "markdown",
   "metadata": {},
   "source": [
    "`torchvision.datasets.*` give us access to the raw (pixel intensities) and processed data (tensor representation). Having access to the tensor representation of images, we can now build *input pipeliens* for the CNNs which will load data in *batches*. We need the batch loading functionality for the *mini-batch stocastic optimization*. These pipelines are implemented in `torch.utils.data.DataLoader` class, which loads mini-batches (random samples) of our data in parallalel."
   ]
  },
  {
   "cell_type": "code",
   "execution_count": 12,
   "metadata": {},
   "outputs": [],
   "source": [
    "# Data Loader (Input Pipeline)\n",
    "train_loader = torch.utils.data.DataLoader(dataset=train_dataset,\n",
    "                                           batch_size=batch_size,\n",
    "                                           shuffle=True)\n",
    "\n",
    "test_loader = torch.utils.data.DataLoader(dataset=test_dataset,\n",
    "                                          batch_size=batch_size,\n",
    "                                          shuffle=False)"
   ]
  },
  {
   "cell_type": "markdown",
   "metadata": {},
   "source": [
    "The dataset is split into *train* and *test* subsets, each element of either dataset contains one $28 \\times 28$ image with labels, which we need to predict from image data."
   ]
  },
  {
   "cell_type": "code",
   "execution_count": 13,
   "metadata": {},
   "outputs": [
    {
     "name": "stdout",
     "output_type": "stream",
     "text": [
      "torch.Size([1, 28, 28])\n",
      "5\n"
     ]
    },
    {
     "data": {
      "text/plain": [
       "<matplotlib.image.AxesImage at 0x7f932ffdbda0>"
      ]
     },
     "execution_count": 13,
     "metadata": {},
     "output_type": "execute_result"
    },
    {
     "data": {
      "image/png": "[encoded data removed]",
      "text/plain": [
       "<matplotlib.figure.Figure at 0x7f933025a278>"
      ]
     },
     "metadata": {},
     "output_type": "display_data"
    }
   ],
   "source": [
    "img, label = train_dataset[0]\n",
    "print(img.shape)\n",
    "print(label)\n",
    "plt.imshow(img.squeeze().numpy())"
   ]
  },
  {
   "cell_type": "code",
   "execution_count": 14,
   "metadata": {},
   "outputs": [
    {
     "name": "stdout",
     "output_type": "stream",
     "text": [
      "torch.Size([1, 28, 28])\n",
      "7\n"
     ]
    },
    {
     "data": {
      "text/plain": [
       "<matplotlib.image.AxesImage at 0x7f932fffe9e8>"
      ]
     },
     "execution_count": 14,
     "metadata": {},
     "output_type": "execute_result"
    },
    {
     "data": {
      "image/png": "[encoded data removed]",
      "text/plain": [
       "<matplotlib.figure.Figure at 0x7f932ffceb70>"
      ]
     },
     "metadata": {},
     "output_type": "display_data"
    }
   ],
   "source": [
    "img, label = test_dataset[0]\n",
    "print(img.shape)\n",
    "print(label)\n",
    "plt.imshow(img.squeeze().numpy())"
   ]
  },
  {
   "cell_type": "markdown",
   "metadata": {},
   "source": [
    "Since we are limiting the number of samples of the original dataset (we pick a subset at random), we might have imbalanced classes, i.e., some classes might have much more samples than other. Below we simply count the number of images (samples) in each subset (train and test), make sure that the classes are \"balanced\", otherwise re-run the cells in the *Data preparation* section untill you get balanced classes."
   ]
  },
  {
   "cell_type": "code",
   "execution_count": 50,
   "metadata": {},
   "outputs": [
    {
     "name": "stdout",
     "output_type": "stream",
     "text": [
      "Counter({7: 117, 1: 116, 4: 105, 9: 100, 2: 99, 0: 97, 6: 94, 3: 93, 5: 92, 8: 87})\n",
      "Counter({1: 28, 4: 28, 7: 24, 9: 21, 5: 20, 6: 20, 0: 17, 2: 16, 3: 16, 8: 10})\n"
     ]
    }
   ],
   "source": [
    "from collections import Counter\n",
    "\n",
    "tr_labels = [y for x, y in train_dataset]\n",
    "te_labels = [y for x, y in test_dataset]\n",
    "print(Counter(tr_labels))\n",
    "print(Counter(te_labels))"
   ]
  },
  {
   "cell_type": "markdown",
   "metadata": {},
   "source": [
    "## Convolutional Neural Network"
   ]
  },
  {
   "cell_type": "markdown",
   "metadata": {},
   "source": [
    "We finally come to the central part of this exercise - the definition of a CNN. As you can see, a CNN is defined as a `pytorch` module consisting of *convolutional, maxpooling* and non-linear activation layers as you saw in lecture. In particular,\n",
    "\n",
    "* `nn.Conv2D(n, m, kernel_size=k)` will take *n* 2d signals (images) and produce *m* 2d signals (filters) by convolving each of the *n* signals with a kernel (sliding window) of a size $k \\times k$. Note that each of the *m* produced filters will have the dimension *N - k + 1*, where $N \\times N$ is the dimension of the input 2d signal.\n",
    "* `MaxPool2D(h)` will take the maximum value in the previous layer (usually on the produced filter images) in the $h \\times h$ region. You should understand that the *maxpooling* layer will produce the output 2d signal of dimenions $\\frac{M}{h} \\times \\frac{M}{h}$, where $M \\times M$ - the size of the filter on which we perform *maxpooling*.\n",
    "* `BatchNorm(m)` is a layer which is goind to normalize all values for the current batch, to avoid the problem of the vanishing gradients (i.e., it will make sure that the *learning* is not slowed down by the neurons with close to zero activations)\n",
    "\n",
    "The convolutional pipeline of a CNN is succeded by the *classification* pipeline, consisting of *fully connected* layers (one or many). In particular, the fully connected layer will have to take as input the unwrapped 1d vector representation of the output of the convolution pipeline. You will have to manually determine the final dimensions of the fully connected layers. For instance, if the final layer in the convolution pipeline (usually a pooling layer) produced a 2d output of $\\frac{M}{h} \\times \\frac{M}{h}$ dimensions, then the fully connected layer will map $\\mathbb{R}^{\\frac{M}{h} * \\frac{M}{h}} \\mapsto C$, where $C$ is the number of final categories (e.g., $C=2$ for binary classifications)."
   ]
  },
  {
   "cell_type": "code",
   "execution_count": 51,
   "metadata": {},
   "outputs": [],
   "source": [
    "# CNN Model (2 conv layer)\n",
    "class CNN(nn.Module):\n",
    "    def __init__(self):\n",
    "        super(CNN, self).__init__()\n",
    "        self.layer1 = nn.Sequential(\n",
    "            # nn.Conv2d(1, 16, kernel_size=5, padding=2),\n",
    "            nn.Conv2d(1, 16, kernel_size=5),\n",
    "            nn.BatchNorm2d(16),\n",
    "            nn.ReLU(),\n",
    "            nn.MaxPool2d(2))\n",
    "        self.layer2 = nn.Sequential(\n",
    "            # nn.Conv2d(16, 32, kernel_size=5, padding=2),\n",
    "            nn.Conv2d(16, 32, kernel_size=5),\n",
    "            nn.BatchNorm2d(32),\n",
    "            nn.ReLU(),\n",
    "            nn.MaxPool2d(2))\n",
    "        # self.fc = nn.Linear(7*7*32, 10) \n",
    "        self.fc = nn.Linear(4*4*32, 10)\n",
    "    \n",
    "    def forward(self, x): \n",
    "        out = self.layer1(x)\n",
    "        out = self.layer2(out)\n",
    "        out = out.view(out.size(0), -1) \n",
    "        out = self.fc(out)\n",
    "        return out \n",
    "    \n",
    "# cnn = CNN()"
   ]
  },
  {
   "cell_type": "markdown",
   "metadata": {},
   "source": [
    "### Exercise 2.1\n",
    "\n",
    "Here, we start with images of $28 \\times 28$ dimensions, and finally have a fully connected layer which maps vectors in $\\mathbf{R}^{32*4*4}$ to $C=10$ (10 categories for 0-9 digits). Explain the derivation of the final size of the fully connected layer from the input images with the formulas provided for the convolutional and pooling layers above.\n",
    "\n",
    "*Hint: the fully connected layer will receive $32$ images each of size $4 \\times 4$*"
   ]
  },
  {
   "cell_type": "markdown",
   "metadata": {},
   "source": [
    "**Comments:** <br /> \n",
    "**Following written-out derivation to make sure I understand it correctly:**\n",
    "\n",
    "1. First Conv2D takes 1 image of dim $28 \\times 28$ and returns 16 filters of (28-5+1=24)-> dimension $24 \\times 24$.\n",
    "2. First MaxPool2D takes 16 of these $28 \\times 28$ arrays and returns 16 downsized arrays of dimension 24/2 i.e. $24 \\times 24$.\n",
    "3. Batchnorm leaves dimensions unchanged.\n",
    "4. Start cycle again: second Conv2D takes the 16 filters of $12 \\times 12$ dim, and now returns 32 filters of 12-5+1 -> i.e. dimension $8 \\times 8$.\n",
    "5. Second maxpool2d takes these 32 $12 \\times 12$ arrays and down-samples to 8/2 -> i.e. of dimension $4 \\times 4$.\n",
    "6. Batchnorm leaves dimensions unchanged again...\n",
    "7. Fully connected layer receives 32 arrays of size $4 \\times 4$ and maps it to C=10.\n",
    "\n",
    "The summary formula for end (side) dimension in this case would be <br /> \n",
    "**F_end = $(((I0 - k0 + 1)/M0) - k1 +1)/M1)$** <br /> \n",
    "where <br /> \n",
    "F_end = input dimension of fully connected layer <br /> \n",
    "I0 = original image dimension <br /> \n",
    "k0, k1 (..., ki) = kernel size of ith conv layer <br /> \n",
    "M0, M1 (..., Mi) = size of ith pooling layer\n",
    "\n",
    "Also number of images N_end = output number of last conv layer\n",
    "\n",
    "Recalculate: ((28 - 5 + 1)/2) - 5 +1 )/2 = 4, last conv layer output number is 32, hence total size is $4 \\times 4 \\times 32$ which matches result of written-out derivation."
   ]
  },
  {
   "cell_type": "markdown",
   "metadata": {},
   "source": [
    "### Exercise 2.2\n",
    "\n",
    "What would be the size of the fully connected layer after a convolution pipeline consisting of\n",
    "\n",
    "1. `nn.Conv2d(1, 16, kernel_size=7)` with $7 \\times 7$ kernel\n",
    "2. `nn.MaxPool2d(4)`\n",
    "1. `nn.Conv2d(16, 32, kernel_size=5)` with $5 \\times 5$ kernel\n",
    "2. `nn.MaxPool2d(2)`\n",
    "\n",
    "applied to images of dimensions $64 \\times 64$?\n",
    "\n",
    "*Hint: beware that some choice of dimensions may be incompatible, and may break the convolution pipeline*"
   ]
  },
  {
   "cell_type": "markdown",
   "metadata": {},
   "source": [
    "**Comments:** <br /> \n",
    "**Using improvised formula from before:** <br /> \n",
    "F_end = ((64 - 7 + 1)/4) - 5 +1)/2 = 5.25 <br /> \n",
    "N_end = N(2nd Conv layer) = 32 <br /> \n",
    "Hence fully connected layer input size = F_end $\\times$ F_end $\\times$ N_end =  5.25$\\times$5.25$\\times$32 = **882** <br /> \n",
    "\n",
    "Needless to say, the decimal places should not be there - the first conv-layer and the first max pooling layer are mismatched: (64-7+1) -> 58, which is not divisible by 4.\n",
    "\n",
    "This could be fixed any number of ways, e.g. by changing the first max pooling parameter to 2 and the second convolution kernel size to 6, which would give a $12 \\times 12$ (integer-)dimensional fully connected layer.\n"
   ]
  },
  {
   "cell_type": "markdown",
   "metadata": {},
   "source": [
    "### Training and evaluation"
   ]
  },
  {
   "cell_type": "markdown",
   "metadata": {},
   "source": [
    "Below we train our CNN with stochastic mini-batch gradient descent. Note that we are only training for 10 epochs due to resource limitations, try to train for more epochs (try to get the loss error go to zero as much as possible) if you are doing these exercises on a local machine."
   ]
  },
  {
   "cell_type": "code",
   "execution_count": 60,
   "metadata": {},
   "outputs": [
    {
     "name": "stdout",
     "output_type": "stream",
     "text": [
      "Epoch [1/10], Iter [5/10] Loss: 2.0078\n",
      "Epoch [1/10], Iter [10/10] Loss: 1.6587\n",
      "Epoch [2/10], Iter [5/10] Loss: 1.4705\n",
      "Epoch [2/10], Iter [10/10] Loss: 1.2298\n",
      "Epoch [3/10], Iter [5/10] Loss: 1.0636\n",
      "Epoch [3/10], Iter [10/10] Loss: 0.8568\n",
      "Epoch [4/10], Iter [5/10] Loss: 0.6929\n",
      "Epoch [4/10], Iter [10/10] Loss: 0.6578\n",
      "Epoch [5/10], Iter [5/10] Loss: 0.5206\n",
      "Epoch [5/10], Iter [10/10] Loss: 0.4738\n",
      "Epoch [6/10], Iter [5/10] Loss: 0.3926\n",
      "Epoch [6/10], Iter [10/10] Loss: 0.3059\n",
      "Epoch [7/10], Iter [5/10] Loss: 0.4077\n",
      "Epoch [7/10], Iter [10/10] Loss: 0.2773\n",
      "Epoch [8/10], Iter [5/10] Loss: 0.2948\n",
      "Epoch [8/10], Iter [10/10] Loss: 0.2630\n",
      "Epoch [9/10], Iter [5/10] Loss: 0.2761\n",
      "Epoch [9/10], Iter [10/10] Loss: 0.1617\n",
      "Epoch [10/10], Iter [5/10] Loss: 0.2137\n",
      "Epoch [10/10], Iter [10/10] Loss: 0.1775\n",
      "time elapsed: 8.91768503189087\n"
     ]
    },
    {
     "data": {
      "image/png": "[encoded data removed]",
      "text/plain": [
       "<matplotlib.figure.Figure at 0x7f9330303dd8>"
      ]
     },
     "metadata": {},
     "output_type": "display_data"
    }
   ],
   "source": [
    "import time\n",
    "\n",
    "\n",
    "def optimiser(test_net):\n",
    "    start_time = time.time()\n",
    "    epoch_data = []\n",
    "    loss_data = []\n",
    "    # Loss and Optimizer\n",
    "    criterion = nn.CrossEntropyLoss()\n",
    "    optimizer = torch.optim.Adam(test_net.parameters(), lr=learning_rate)\n",
    "\n",
    "    # Train the Model\n",
    "    for epoch in range(num_epochs):\n",
    "        for i, (images, labels) in enumerate(train_loader):\n",
    "            images = Variable(images)\n",
    "            labels = Variable(labels)\n",
    "\n",
    "            # Forward + Backward + Optimize\n",
    "            optimizer.zero_grad()\n",
    "            outputs = test_net(images)\n",
    "            loss = criterion(outputs, labels)\n",
    "            loss.backward()\n",
    "            optimizer.step()\n",
    "\n",
    "            if (i+1) % 5 == 0:\n",
    "                # for plotting, append epoch and loss data to timeseries:\n",
    "                epoch_data.append(epoch+1+(i+1)/10.0) # epochs as 1, 1.5, 2.0 etc\n",
    "                loss_data.append(loss.data[0])\n",
    "                # print updates:\n",
    "                print ('Epoch [%d/%d], Iter [%d/%d] Loss: %.4f'\n",
    "                       %(epoch+1, num_epochs, i+1, len(train_dataset)//batch_size, loss.data[0]))\n",
    "\n",
    "    print(\"time elapsed: {}\".format(time.time()-start_time))\n",
    "    plt.plot(epoch_data, loss_data)\n",
    "    plt.ylabel('loss over time')\n",
    "    plt.xlabel('training epoch')\n",
    "    plt.show()\n",
    "cnn = CNN()\n",
    "optimiser(cnn)"
   ]
  },
  {
   "cell_type": "markdown",
   "metadata": {},
   "source": [
    "Finally, we evaluate the *accuracy* of the CNN on the test dataset."
   ]
  },
  {
   "cell_type": "code",
   "execution_count": 53,
   "metadata": {},
   "outputs": [
    {
     "name": "stdout",
     "output_type": "stream",
     "text": [
      "Test Accuracy of the model on the 200 test images: 96 %\n"
     ]
    }
   ],
   "source": [
    "def tester(test_net):\n",
    "    # Test the Model\n",
    "    test_net.eval()  # Change model to 'eval' mode (BN uses moving mean/var).\n",
    "    correct = 0\n",
    "    total = 0\n",
    "    for images, labels in test_loader:\n",
    "        images = Variable(images)\n",
    "        outputs = test_net(images)\n",
    "        _, predicted = torch.max(outputs.data, 1)\n",
    "        total += labels.size(0)\n",
    "        correct += (predicted == labels).sum()\n",
    "\n",
    "    print('Test Accuracy of the model on the %d test images: %d %%' % (len(test_dataset), 100 * correct / total))\n",
    "\n",
    "tester(cnn)"
   ]
  },
  {
   "cell_type": "markdown",
   "metadata": {},
   "source": [
    "### Exercise 2.3\n",
    "\n",
    "Try to train *deeper* CNNs, make sure that compute the dimensions of the layers appropriately as you continuously downsample images (as a result of convolutions and maxpoling). Report differences with the provided CNN: convergence rate, i.e., time it takes to reduce loss error close to $0$ (within epsilon), contrast the plots of loss errors, compare test accuracy of the models."
   ]
  },
  {
   "cell_type": "markdown",
   "metadata": {},
   "source": [
    "**Comments:** <br /> \n",
    "**For the rest of the exercise, I decided to test 4 more CNNs:**\n",
    "1. a 3-layer Conv-net with 1 fully connected linear output layer (\"DeeperCNN\")\n",
    "2. a 4-layer Conv-net with 1 fully connected linear output layer (\"EvenDeeperCNN\")\n",
    "3. the 3-layer Conv-net, this time with 3 fully connected linear output layers (\"MoreFullDeepCNN\")\n",
    "3. the 4-layer Conv-net, this time with 3 fully connected linear output layers (\"FullestDeepestCNN\")"
   ]
  },
  {
   "cell_type": "code",
   "execution_count": 63,
   "metadata": {},
   "outputs": [],
   "source": [
    "class DeeperCNN(CNN):\n",
    "    # inherit 2-layer CNNs structure, modify second layer, add third conv-layer\n",
    "    def __init__(self):\n",
    "        super(DeeperCNN, self).__init__()\n",
    "        # remove max-pooling from existing 2nd layer to reduce downsizing:\n",
    "        self.layer2 = nn.Sequential(*list(self.layer2.children())[:-1])\n",
    "        # add third conv-layer\n",
    "        self.layer3 = nn.Sequential(\n",
    "            nn.Conv2d(32, 64, kernel_size=3),\n",
    "            nn.BatchNorm2d(64),\n",
    "            nn.ReLU())\n",
    "        self.fc = nn.Linear(6*6*64, 10)\n",
    "    \n",
    "    def forward(self, x): \n",
    "        out = self.layer1(x)\n",
    "        out = self.layer2(out)\n",
    "        out = self.layer3(out)\n",
    "        out = out.view(out.size(0), -1) \n",
    "        out = self.fc(out)\n",
    "        return out "
   ]
  },
  {
   "cell_type": "code",
   "execution_count": 64,
   "metadata": {},
   "outputs": [
    {
     "name": "stdout",
     "output_type": "stream",
     "text": [
      "Epoch [1/10], Iter [5/10] Loss: 1.5734\n",
      "Epoch [1/10], Iter [10/10] Loss: 0.8756\n",
      "Epoch [4/10], Iter [10/10] Loss: 0.1963\n",
      "Epoch [5/10], Iter [5/10] Loss: 0.1152\n",
      "Epoch [5/10], Iter [10/10] Loss: 0.2296\n",
      "Epoch [6/10], Iter [5/10] Loss: 0.1466\n",
      "Epoch [6/10], Iter [10/10] Loss: 0.1285\n",
      "Epoch [7/10], Iter [5/10] Loss: 0.1132\n",
      "Epoch [7/10], Iter [10/10] Loss: 0.0452\n",
      "Epoch [8/10], Iter [5/10] Loss: 0.0659\n",
      "Epoch [8/10], Iter [10/10] Loss: 0.0693\n",
      "Epoch [9/10], Iter [5/10] Loss: 0.0728\n",
      "Epoch [9/10], Iter [10/10] Loss: 0.0532\n",
      "Epoch [10/10], Iter [5/10] Loss: 0.0574\n",
      "Epoch [10/10], Iter [10/10] Loss: 0.0278\n",
      "time elapsed: 11.253701448440552\n"
     ]
    },
    {
     "data": {
      "image/png": "[encoded data removed]",
      "text/plain": [
       "<matplotlib.figure.Figure at 0x7f93338d4a90>"
      ]
     },
     "metadata": {},
     "output_type": "display_data"
    },
    {
     "name": "stdout",
     "output_type": "stream",
     "text": [
      "Test Accuracy of the model on the 200 test images: 97 %\n"
     ]
    }
   ],
   "source": [
    "deeper_cnn = DeeperCNN()\n",
    "\n",
    "optimiser(deeper_cnn)\n",
    "tester(deeper_cnn)"
   ]
  },
  {
   "cell_type": "code",
   "execution_count": 65,
   "metadata": {},
   "outputs": [],
   "source": [
    "# 4-layer CNN module - define from scratch \n",
    "# layers change quite a bit (very granular) so inherit + mod makes less sense\n",
    "class EvenDeeperCNN(nn.Module):\n",
    "    def __init__(self):\n",
    "        super(EvenDeeperCNN, self).__init__()\n",
    "        self.layer1 = nn.Sequential(\n",
    "            nn.Conv2d(1, 16, kernel_size=3),\n",
    "            nn.BatchNorm2d(16),\n",
    "            nn.ReLU()) # 28-3+1 -> 26\n",
    "        self.layer2 = nn.Sequential(\n",
    "            nn.Conv2d(16, 32, kernel_size=3),\n",
    "            nn.BatchNorm2d(32),\n",
    "            nn.ReLU()) # 26-3+1 -> 24 \n",
    "        self.layer3 = nn.Sequential(\n",
    "            nn.Conv2d(32, 64, kernel_size=3),\n",
    "            nn.BatchNorm2d(64),\n",
    "            nn.ReLU(),\n",
    "            nn.MaxPool2d(2)) # 24-3+1 -> 22/2 -> 11 \n",
    "        self.layer4 = nn.Sequential(\n",
    "            nn.Conv2d(64, 128, kernel_size=4),\n",
    "            nn.BatchNorm2d(128),\n",
    "            nn.ReLU(),\n",
    "            nn.MaxPool2d(2)) # 11-4+1 -> 8/2 -> 4\n",
    "        self.fc = nn.Linear(4*4*128, 10)\n",
    "    \n",
    "    def forward(self, x): \n",
    "        out = self.layer1(x)\n",
    "        out = self.layer2(out)\n",
    "        out = self.layer3(out)\n",
    "        out = self.layer4(out)\n",
    "        out = out.view(out.size(0), -1) \n",
    "        out = self.fc(out)\n",
    "        return out "
   ]
  },
  {
   "cell_type": "code",
   "execution_count": 66,
   "metadata": {},
   "outputs": [
    {
     "name": "stdout",
     "output_type": "stream",
     "text": [
      "Epoch [1/10], Iter [5/10] Loss: 1.3514\n",
      "Epoch [1/10], Iter [10/10] Loss: 0.7636\n",
      "Epoch [2/10], Iter [5/10] Loss: 0.4990\n",
      "Epoch [2/10], Iter [10/10] Loss: 0.3545\n",
      "Epoch [3/10], Iter [5/10] Loss: 0.1789\n",
      "Epoch [3/10], Iter [10/10] Loss: 0.1746\n",
      "Epoch [4/10], Iter [5/10] Loss: 0.1340\n",
      "Epoch [4/10], Iter [10/10] Loss: 0.1174\n",
      "Epoch [5/10], Iter [5/10] Loss: 0.1072\n",
      "Epoch [5/10], Iter [10/10] Loss: 0.0715\n",
      "Epoch [6/10], Iter [5/10] Loss: 0.0600\n",
      "Epoch [6/10], Iter [10/10] Loss: 0.0438\n",
      "Epoch [7/10], Iter [5/10] Loss: 0.0481\n",
      "Epoch [7/10], Iter [10/10] Loss: 0.0653\n",
      "Epoch [8/10], Iter [5/10] Loss: 0.0226\n",
      "Epoch [8/10], Iter [10/10] Loss: 0.0211\n",
      "Epoch [9/10], Iter [5/10] Loss: 0.0259\n",
      "Epoch [9/10], Iter [10/10] Loss: 0.0153\n",
      "Epoch [10/10], Iter [5/10] Loss: 0.0144\n",
      "Epoch [10/10], Iter [10/10] Loss: 0.0120\n",
      "time elapsed: 61.63763236999512\n"
     ]
    },
    {
     "data": {
      "image/png": "[encoded data removed]",
      "text/plain": [
       "<matplotlib.figure.Figure at 0x7f9330337978>"
      ]
     },
     "metadata": {},
     "output_type": "display_data"
    },
    {
     "name": "stdout",
     "output_type": "stream",
     "text": [
      "Test Accuracy of the model on the 200 test images: 98 %\n"
     ]
    }
   ],
   "source": [
    "even_deeper_cnn = EvenDeeperCNN()\n",
    "optimiser(even_deeper_cnn)\n",
    "tester(even_deeper_cnn)"
   ]
  },
  {
   "cell_type": "code",
   "execution_count": 69,
   "metadata": {},
   "outputs": [],
   "source": [
    "class MoreFullDeepCNN(DeeperCNN):\n",
    "    # keep 3-layer CNN structure\n",
    "    # add additional fully connected layers at end for classification\n",
    "    def __init__(self):\n",
    "        super(MoreFullDeepCNN, self).__init__()\n",
    "        # redefine fc layer to have more linear layers:\n",
    "        self.fc = nn.Sequential(\n",
    "            nn.Linear(6*6*64, 6*64),\n",
    "            nn.ReLU(),\n",
    "            nn.Linear(6*64, 64),\n",
    "            nn.ReLU(),\n",
    "            nn.Linear(64, 10))\n",
    "        # no need to change forward-function definition as only changed fc"
   ]
  },
  {
   "cell_type": "code",
   "execution_count": 70,
   "metadata": {},
   "outputs": [
    {
     "name": "stdout",
     "output_type": "stream",
     "text": [
      "Epoch [1/10], Iter [5/10] Loss: 1.7553\n",
      "Epoch [1/10], Iter [10/10] Loss: 0.9917\n",
      "Epoch [2/10], Iter [5/10] Loss: 0.4996\n",
      "Epoch [2/10], Iter [10/10] Loss: 0.5412\n",
      "Epoch [3/10], Iter [5/10] Loss: 0.1546\n",
      "Epoch [3/10], Iter [10/10] Loss: 0.1734\n",
      "Epoch [4/10], Iter [5/10] Loss: 0.2538\n",
      "Epoch [4/10], Iter [10/10] Loss: 0.0686\n",
      "Epoch [5/10], Iter [5/10] Loss: 0.0786\n",
      "Epoch [5/10], Iter [10/10] Loss: 0.1094\n",
      "Epoch [6/10], Iter [5/10] Loss: 0.0712\n",
      "Epoch [6/10], Iter [10/10] Loss: 0.0907\n",
      "Epoch [7/10], Iter [5/10] Loss: 0.0362\n",
      "Epoch [7/10], Iter [10/10] Loss: 0.0392\n",
      "Epoch [8/10], Iter [5/10] Loss: 0.0428\n",
      "Epoch [8/10], Iter [10/10] Loss: 0.0102\n",
      "Epoch [9/10], Iter [5/10] Loss: 0.0074\n",
      "Epoch [9/10], Iter [10/10] Loss: 0.0198\n",
      "Epoch [10/10], Iter [5/10] Loss: 0.0110\n",
      "Epoch [10/10], Iter [10/10] Loss: 0.0052\n",
      "time elapsed: 16.782421827316284\n"
     ]
    },
    {
     "data": {
      "image/png": "[encoded data removed]",
      "text/plain": [
       "<matplotlib.figure.Figure at 0x7f932ff17080>"
      ]
     },
     "metadata": {},
     "output_type": "display_data"
    },
    {
     "name": "stdout",
     "output_type": "stream",
     "text": [
      "Test Accuracy of the model on the 200 test images: 97 %\n"
     ]
    }
   ],
   "source": [
    "more_full_deep_cnn = MoreFullDeepCNN()\n",
    "optimiser(more_full_deep_cnn)\n",
    "tester(more_full_deep_cnn)"
   ]
  },
  {
   "cell_type": "code",
   "execution_count": 73,
   "metadata": {},
   "outputs": [],
   "source": [
    "class FullestDeepestCNN(EvenDeeperCNN):\n",
    "    # keep 4-layer CNN\n",
    "    # add additional fully connected layers at end for classification\n",
    "    def __init__(self):\n",
    "        super(FullestDeepestCNN, self).__init__()\n",
    "        # redefine fc layer to have more linear layers:\n",
    "        self.fc = nn.Sequential(\n",
    "            nn.Linear(4*4*128, 4*128),\n",
    "            nn.ReLU(),\n",
    "            nn.Linear(4*128, 128),\n",
    "            nn.ReLU(),\n",
    "            nn.Linear(128, 10))\n",
    "        # again, no need to change forward-function definition as only changed fc"
   ]
  },
  {
   "cell_type": "code",
   "execution_count": 74,
   "metadata": {},
   "outputs": [
    {
     "name": "stdout",
     "output_type": "stream",
     "text": [
      "Epoch [1/10], Iter [5/10] Loss: 1.8467\n",
      "Epoch [1/10], Iter [10/10] Loss: 0.8062\n",
      "Epoch [2/10], Iter [5/10] Loss: 0.4044\n",
      "Epoch [2/10], Iter [10/10] Loss: 0.1423\n",
      "Epoch [3/10], Iter [5/10] Loss: 0.2487\n",
      "Epoch [3/10], Iter [10/10] Loss: 0.1476\n",
      "Epoch [4/10], Iter [5/10] Loss: 0.0940\n",
      "Epoch [4/10], Iter [10/10] Loss: 0.1141\n",
      "Epoch [5/10], Iter [5/10] Loss: 0.0549\n",
      "Epoch [5/10], Iter [10/10] Loss: 0.0314\n",
      "Epoch [6/10], Iter [5/10] Loss: 0.0538\n",
      "Epoch [6/10], Iter [10/10] Loss: 0.0125\n",
      "Epoch [7/10], Iter [5/10] Loss: 0.0111\n",
      "Epoch [7/10], Iter [10/10] Loss: 0.0395\n",
      "Epoch [8/10], Iter [5/10] Loss: 0.0044\n",
      "Epoch [8/10], Iter [10/10] Loss: 0.0033\n",
      "Epoch [9/10], Iter [5/10] Loss: 0.0030\n",
      "Epoch [9/10], Iter [10/10] Loss: 0.0067\n",
      "Epoch [10/10], Iter [5/10] Loss: 0.0038\n",
      "Epoch [10/10], Iter [10/10] Loss: 0.0016\n",
      "time elapsed: 63.8772988319397\n"
     ]
    },
    {
     "data": {
      "image/png": "[encoded data removed]",
      "text/plain": [
       "<matplotlib.figure.Figure at 0x7f932ff17da0>"
      ]
     },
     "metadata": {},
     "output_type": "display_data"
    },
    {
     "name": "stdout",
     "output_type": "stream",
     "text": [
      "Test Accuracy of the model on the 200 test images: 97 %\n"
     ]
    }
   ],
   "source": [
    "fullest_deepest_cnn = FullestDeepestCNN()\n",
    "optimiser(fullest_deepest_cnn)\n",
    "tester(fullest_deepest_cnn)"
   ]
  },
  {
   "cell_type": "markdown",
   "metadata": {},
   "source": [
    "**Comments:**\n",
    "1. The extra convolutional layers in the 3- and 4-layer convnets brought a noticeable gain in classification accuracy (about 1 and 2 absolute percentage points, respectively) over the already well-performing 2-layer base convnet. My guess would be that higher than 98-99% accuracy could only be achieved with a lot of extra fine-tuning on this task, so reaching this level represents \"convergence to the (achievable) optimum\".\n",
    "2. The time penalty of an extra convolutional layer is high - a roughly 50 second increase (or 5x multiplication!) from 11 to 60 seconds between the 3-layer and 4-layer convnet; Meanwhile, stacking an extra 3 linear layers as final classification filters only added 3 & 5 seconds, respectively, to the training time of the existing convnets. \n",
    "3. The simple 4-layer convnet (EvenDeeperCNN) without single FC layer at the end actually performed the best (98% class. accuracy), in fact better than its extension with extra linear layers. Perchance for very long training times the extra linear layers may bring some improvement but for further improvement I would focus on tuning the convolutional layers first (playing further with kernel size, investigating importance of max pooling size, etc. However, in the next exercise on medical imaging, I did see an improvement of accuracy by inclusion of extra linear layers, which is somewhat more intuitive due to higher complexity of features seen on that classification task.)"
   ]
  },
  {
   "cell_type": "code",
   "execution_count": null,
   "metadata": {},
   "outputs": [],
   "source": []
  }
 ],
 "metadata": {
  "kernelspec": {
   "display_name": "Python 3",
   "language": "python",
   "name": "python3"
  },
  "language_info": {
   "codemirror_mode": {
    "name": "ipython",
    "version": 3
   },
   "file_extension": ".py",
   "mimetype": "text/x-python",
   "name": "python",
   "nbconvert_exporter": "python",
   "pygments_lexer": "ipython3",
   "version": "3.5.4"
  }
 },
 "nbformat": 4,
 "nbformat_minor": 2
}
